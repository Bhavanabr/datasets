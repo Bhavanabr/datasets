{
 "cells": [
  {
   "cell_type": "code",
   "execution_count": 1,
   "metadata": {},
   "outputs": [
    {
     "name": "stdout",
     "output_type": "stream",
     "text": [
      "Populating the interactive namespace from numpy and matplotlib\n"
     ]
    }
   ],
   "source": [
    "%pylab inline\n",
    "import numpy as np\n",
    "import pandas as pd\n",
    "from collections import defaultdict"
   ]
  },
  {
   "cell_type": "markdown",
   "metadata": {},
   "source": [
    "# PGA dataset"
   ]
  },
  {
   "cell_type": "code",
   "execution_count": 2,
   "metadata": {},
   "outputs": [
    {
     "name": "stderr",
     "output_type": "stream",
     "text": [
      "/home/waren/.local/lib/python3.6/site-packages/IPython/core/interactiveshell.py:2728: DtypeWarning: Columns (2,7,8) have mixed types. Specify dtype option on import or set low_memory=False.\n",
      "  interactivity=interactivity, compiler=compiler, result=result)\n"
     ]
    },
    {
     "data": {
      "text/html": [
       "<div>\n",
       "<style scoped>\n",
       "    .dataframe tbody tr th:only-of-type {\n",
       "        vertical-align: middle;\n",
       "    }\n",
       "\n",
       "    .dataframe tbody tr th {\n",
       "        vertical-align: top;\n",
       "    }\n",
       "\n",
       "    .dataframe thead th {\n",
       "        text-align: right;\n",
       "    }\n",
       "</style>\n",
       "<table border=\"1\" class=\"dataframe\">\n",
       "  <thead>\n",
       "    <tr style=\"text-align: right;\">\n",
       "      <th></th>\n",
       "      <th>URL</th>\n",
       "      <th>SIVA_FILENAMES</th>\n",
       "      <th>FILE_COUNT</th>\n",
       "      <th>LANGS</th>\n",
       "      <th>LANGS_BYTE_COUNT</th>\n",
       "      <th>LANGS_LINES_COUNT</th>\n",
       "      <th>LANGS_FILES_COUNT</th>\n",
       "      <th>COMMITS_COUNT</th>\n",
       "      <th>BRANCHES_COUNT</th>\n",
       "      <th>FORK_COUNT</th>\n",
       "      <th>EMPTY_LINES_COUNT</th>\n",
       "      <th>CODE_LINES_COUNT</th>\n",
       "      <th>COMMENT_LINES_COUNT</th>\n",
       "      <th>LICENSE</th>\n",
       "    </tr>\n",
       "  </thead>\n",
       "  <tbody>\n",
       "    <tr>\n",
       "      <th>0</th>\n",
       "      <td>https://github.com/powmedia/buildify</td>\n",
       "      <td>4a14cc02da0a9280538cd3f3242365601d72f241.siva</td>\n",
       "      <td>12</td>\n",
       "      <td>JSON,JavaScript,Markdown,Text</td>\n",
       "      <td>653,18611,4669,1094</td>\n",
       "      <td>29,849,216,22</td>\n",
       "      <td>1,5,1,4</td>\n",
       "      <td>38</td>\n",
       "      <td>25</td>\n",
       "      <td>0</td>\n",
       "      <td>0,190,67,0</td>\n",
       "      <td>28,474,148,0</td>\n",
       "      <td>0,161,0,0</td>\n",
       "      <td>JSON:0.757,MIT:0.905,MIT-feh:0.479</td>\n",
       "    </tr>\n",
       "    <tr>\n",
       "      <th>1</th>\n",
       "      <td>https://github.com/leon/play-salat</td>\n",
       "      <td>ee02fdfc0942ff17949f456d6ee3a27b976b7141.siva</td>\n",
       "      <td>53</td>\n",
       "      <td>CSS,HTML,INI,Markdown,Scala,YAML</td>\n",
       "      <td>12981,692,38,12388,34281,132</td>\n",
       "      <td>114,30,4,343,1056,16</td>\n",
       "      <td>1,3,2,19,19,1</td>\n",
       "      <td>104</td>\n",
       "      <td>74</td>\n",
       "      <td>0</td>\n",
       "      <td>0,4,0,79,156,4</td>\n",
       "      <td>113,25,0,248,766,11</td>\n",
       "      <td>0,0,0,0,102,0</td>\n",
       "      <td>NaN</td>\n",
       "    </tr>\n",
       "    <tr>\n",
       "      <th>2</th>\n",
       "      <td>https://github.com/adammark/Markup.js</td>\n",
       "      <td>00e71912d4ec215337d5d959a34ab0ce44fdd3b4.siva</td>\n",
       "      <td>22</td>\n",
       "      <td>CSS,HTML,JSON,JavaScript,Markdown,Shell</td>\n",
       "      <td>6537,11414,678,182203,30807,91</td>\n",
       "      <td>83,492,30,5600,1204,5</td>\n",
       "      <td>1,2,1,13,1,1</td>\n",
       "      <td>295</td>\n",
       "      <td>30</td>\n",
       "      <td>0</td>\n",
       "      <td>2,91,0,857,347,0</td>\n",
       "      <td>80,395,29,3726,857,0</td>\n",
       "      <td>0,4,0,1008,0,0</td>\n",
       "      <td>NaN</td>\n",
       "    </tr>\n",
       "    <tr>\n",
       "      <th>3</th>\n",
       "      <td>https://github.com/heroku/heroku-buildpack-scala</td>\n",
       "      <td>eb7aa1e50236c65bf44529ebb9a75fae68e1d6b0.siva</td>\n",
       "      <td>33</td>\n",
       "      <td>JSON,Markdown,Ruby,Scala,Shell,Text,YAML</td>\n",
       "      <td>585,5528,6850,494,69595,1070,711</td>\n",
       "      <td>23,160,229,22,2425,10,32</td>\n",
       "      <td>1,2,5,2,18,1,2</td>\n",
       "      <td>560</td>\n",
       "      <td>206</td>\n",
       "      <td>0</td>\n",
       "      <td>0,58,19,2,0,0,1</td>\n",
       "      <td>22,100,112,18,0,0,29</td>\n",
       "      <td>0,0,8,0,0,0,0</td>\n",
       "      <td>JSON:0.747,MIT:0.914</td>\n",
       "    </tr>\n",
       "    <tr>\n",
       "      <th>4</th>\n",
       "      <td>https://github.com/brandonwamboldt/utilphp</td>\n",
       "      <td>993cc5b5ca2603f06a82555df151fbb398114543.siva,...</td>\n",
       "      <td>12</td>\n",
       "      <td>JSON,Markdown,PHP,XML,YAML</td>\n",
       "      <td>723,13409,157618,714,342</td>\n",
       "      <td>25,337,3986,26,23</td>\n",
       "      <td>1,5,3,1,1</td>\n",
       "      <td>267</td>\n",
       "      <td>112</td>\n",
       "      <td>0</td>\n",
       "      <td>0,91,548,0,4</td>\n",
       "      <td>24,242,2505,0,18</td>\n",
       "      <td>0,0,930,0,0</td>\n",
       "      <td>JSON:0.667,MIT:0.817</td>\n",
       "    </tr>\n",
       "  </tbody>\n",
       "</table>\n",
       "</div>"
      ],
      "text/plain": [
       "                                                URL  \\\n",
       "0              https://github.com/powmedia/buildify   \n",
       "1                https://github.com/leon/play-salat   \n",
       "2             https://github.com/adammark/Markup.js   \n",
       "3  https://github.com/heroku/heroku-buildpack-scala   \n",
       "4        https://github.com/brandonwamboldt/utilphp   \n",
       "\n",
       "                                      SIVA_FILENAMES FILE_COUNT  \\\n",
       "0      4a14cc02da0a9280538cd3f3242365601d72f241.siva         12   \n",
       "1      ee02fdfc0942ff17949f456d6ee3a27b976b7141.siva         53   \n",
       "2      00e71912d4ec215337d5d959a34ab0ce44fdd3b4.siva         22   \n",
       "3      eb7aa1e50236c65bf44529ebb9a75fae68e1d6b0.siva         33   \n",
       "4  993cc5b5ca2603f06a82555df151fbb398114543.siva,...         12   \n",
       "\n",
       "                                      LANGS                  LANGS_BYTE_COUNT  \\\n",
       "0             JSON,JavaScript,Markdown,Text               653,18611,4669,1094   \n",
       "1          CSS,HTML,INI,Markdown,Scala,YAML      12981,692,38,12388,34281,132   \n",
       "2   CSS,HTML,JSON,JavaScript,Markdown,Shell    6537,11414,678,182203,30807,91   \n",
       "3  JSON,Markdown,Ruby,Scala,Shell,Text,YAML  585,5528,6850,494,69595,1070,711   \n",
       "4                JSON,Markdown,PHP,XML,YAML          723,13409,157618,714,342   \n",
       "\n",
       "          LANGS_LINES_COUNT LANGS_FILES_COUNT COMMITS_COUNT BRANCHES_COUNT  \\\n",
       "0             29,849,216,22           1,5,1,4            38             25   \n",
       "1      114,30,4,343,1056,16     1,3,2,19,19,1           104             74   \n",
       "2     83,492,30,5600,1204,5      1,2,1,13,1,1           295             30   \n",
       "3  23,160,229,22,2425,10,32    1,2,5,2,18,1,2           560            206   \n",
       "4         25,337,3986,26,23         1,5,3,1,1           267            112   \n",
       "\n",
       "   FORK_COUNT EMPTY_LINES_COUNT      CODE_LINES_COUNT COMMENT_LINES_COUNT  \\\n",
       "0           0        0,190,67,0          28,474,148,0           0,161,0,0   \n",
       "1           0    0,4,0,79,156,4   113,25,0,248,766,11       0,0,0,0,102,0   \n",
       "2           0  2,91,0,857,347,0  80,395,29,3726,857,0      0,4,0,1008,0,0   \n",
       "3           0   0,58,19,2,0,0,1  22,100,112,18,0,0,29       0,0,8,0,0,0,0   \n",
       "4           0      0,91,548,0,4      24,242,2505,0,18         0,0,930,0,0   \n",
       "\n",
       "                              LICENSE  \n",
       "0  JSON:0.757,MIT:0.905,MIT-feh:0.479  \n",
       "1                                 NaN  \n",
       "2                                 NaN  \n",
       "3                JSON:0.747,MIT:0.914  \n",
       "4                JSON:0.667,MIT:0.817  "
      ]
     },
     "execution_count": 2,
     "metadata": {},
     "output_type": "execute_result"
    }
   ],
   "source": [
    "res = pd.read_csv(\"result_forks.csv\")\n",
    "res.head(5)"
   ]
  },
  {
   "cell_type": "code",
   "execution_count": 3,
   "metadata": {},
   "outputs": [],
   "source": [
    "rows = []\n",
    "for i, row in enumerate(res.iterrows()):\n",
    "    rows.append((len(row[1][1].split(\",\")), row[1][0], i))"
   ]
  },
  {
   "cell_type": "code",
   "execution_count": 4,
   "metadata": {},
   "outputs": [],
   "source": [
    "rows.sort(reverse=True)"
   ]
  },
  {
   "cell_type": "code",
   "execution_count": 5,
   "metadata": {},
   "outputs": [
    {
     "data": {
      "text/plain": [
       "[(5222, 'https://github.com/android/platform_bionic', 181461),\n",
       " (4623, 'https://github.com/android/platform_build', 170899),\n",
       " (3295, 'https://github.com/google/skia-buildbot', 180979),\n",
       " (3242, 'https://github.com/gwtproject/gwt', 180910),\n",
       " (3079, 'https://github.com/webmproject/libwebp', 180874),\n",
       " (2467, 'https://github.com/upspin/upspin', 155534),\n",
       " (1843, 'https://github.com/aosp-mirror/platform_development', 170253),\n",
       " (1843, 'https://github.com/android/platform_development', 180849),\n",
       " (1571, 'https://github.com/android/platform_manifest', 170328),\n",
       " (1375, 'https://github.com/ceres-solver/ceres-solver', 170262)]"
      ]
     },
     "execution_count": 5,
     "metadata": {},
     "output_type": "execute_result"
    }
   ],
   "source": [
    "rows[:10]"
   ]
  },
  {
   "cell_type": "markdown",
   "metadata": {},
   "source": [
    "## 1. Siva files of github.com/android/platform_build"
   ]
  },
  {
   "cell_type": "code",
   "execution_count": 6,
   "metadata": {},
   "outputs": [
    {
     "name": "stdout",
     "output_type": "stream",
     "text": [
      "4623\n"
     ]
    },
    {
     "data": {
      "text/plain": [
       "['00035a4b79ce6b9a4cd7e7006bd78aa153cb9389.siva',\n",
       " '0005967be7fb04360d7996213a6baf4ddbb25757.siva',\n",
       " '00158254d2f2907673c4c294187b55755b214a05.siva',\n",
       " '001603c5f0eeb63887487ba5561dbfec6ea92b9b.siva',\n",
       " '002723488bde066c87275f2c8aa315ce541ef89e.siva',\n",
       " '00311b4a4deb9f16880e43ce10d9c7ec32db1c23.siva',\n",
       " '004600aff1653ce1d06309d0ea133b51d860822c.siva',\n",
       " '00481ae2f44430fd26e71b4ff023025be781343e.siva',\n",
       " '004a36256b8ae0eea41a9eefdea4ea5897eaa851.siva',\n",
       " '00539e967e319e45176a7cc139662900a37c0c30.siva']"
      ]
     },
     "execution_count": 6,
     "metadata": {},
     "output_type": "execute_result"
    }
   ],
   "source": [
    "platform_build_siva_files = res.iloc[170899].SIVA_FILENAMES.split(\",\")\n",
    "print(len(platform_build_siva_files))\n",
    "platform_build_siva_files[:10]"
   ]
  },
  {
   "cell_type": "code",
   "execution_count": 11,
   "metadata": {},
   "outputs": [],
   "source": [
    "with open(\"platform_build_siva_files.txt\", \"w\") as f:\n",
    "    for siva_file in platform_build_siva_files:\n",
    "        f.write(\"/apps/borges/root-repositories/\" + siva_file[:2] + \"/\" + siva_file + \" \")"
   ]
  },
  {
   "cell_type": "code",
   "execution_count": 12,
   "metadata": {},
   "outputs": [],
   "source": [
    "with open(\"platform_build_siva_files_size.txt\", \"r\") as f:\n",
    "    siva_files = f.readlines()"
   ]
  },
  {
   "cell_type": "code",
   "execution_count": 13,
   "metadata": {},
   "outputs": [
    {
     "data": {
      "text/plain": [
       "['5.2 K  /apps/borges/root-repositories/bc/bca1136c9b813afece620d434243a0aac946e6b1.siva\\n',\n",
       " '5.5 K  /apps/borges/root-repositories/bc/bcb90e4dda54236e9c9db15e3aee90f1106c273d.siva\\n',\n",
       " '6.0 K  /apps/borges/root-repositories/bc/bcbfa0e56ddbee000585d98fd91d9f2b5f5aafc7.siva\\n',\n",
       " '3.3 K  /apps/borges/root-repositories/bc/bcc97c9208ffe094ead5219dfaa25fb6e1e06daf.siva\\n',\n",
       " '3.8 K  /apps/borges/root-repositories/bc/bcd33beed13ab8e949f7e2884b5bce46a732c884.siva\\n',\n",
       " '6.3 K  /apps/borges/root-repositories/bc/bcd5aff220a844c77b6fe7df155d0808693515f3.siva\\n',\n",
       " '3.6 K  /apps/borges/root-repositories/bc/bcd7579cc5fb9018b04386ecc75b440e8690c325.siva\\n',\n",
       " '5.3 K  /apps/borges/root-repositories/bd/bd0c0c0b9d0e2969672ebc20f24a0411976c4057.siva\\n',\n",
       " '10.8 K  /apps/borges/root-repositories/bd/bd31b4f9e689675a684ae7b5b29676db68f02d2e.siva\\n',\n",
       " '5.0 K  /apps/borges/root-repositories/bd/bd362eeaf77b7e4743453017136f5a3aca3b2c87.siva\\n']"
      ]
     },
     "execution_count": 13,
     "metadata": {},
     "output_type": "execute_result"
    }
   ],
   "source": [
    "siva_files[:10]"
   ]
  },
  {
   "cell_type": "code",
   "execution_count": 45,
   "metadata": {},
   "outputs": [],
   "source": [
    "len_path = len(\" K  /apps/borges/root-repositories/bc/bca1136c9b813afece620d434243a0aac946e6b1.siva\\n\")\n",
    "list_sizes = []\n",
    "for siva in siva_files:\n",
    "    if siva[-83] is \"K\":\n",
    "        list_sizes.append(float(siva[:-len_path]))\n",
    "    elif siva[-83] is \"M\":\n",
    "        list_sizes.append(float(siva[:-len_path])*1000)"
   ]
  },
  {
   "cell_type": "code",
   "execution_count": 46,
   "metadata": {},
   "outputs": [
    {
     "name": "stdout",
     "output_type": "stream",
     "text": [
      "total : 107350.5 KB\n",
      "min : 2.2 KB\n",
      "max : 76000.0 KB\n",
      "average : 23.2 KB\n"
     ]
    }
   ],
   "source": [
    "average = sum(list_sizes)/len(list_sizes)\n",
    "\n",
    "print(\"total : %s KB\" % sum(list_sizes))\n",
    "print(\"min : %s KB\" % min(list_sizes))\n",
    "print(\"max : %s KB\" % max(list_sizes))\n",
    "print(\"average : %s KB\" % round(average, 1))"
   ]
  },
  {
   "cell_type": "markdown",
   "metadata": {},
   "source": [
    "# 2. Siva files of github.com/upspin/upspin WIP"
   ]
  },
  {
   "cell_type": "code",
   "execution_count": 39,
   "metadata": {},
   "outputs": [
    {
     "name": "stdout",
     "output_type": "stream",
     "text": [
      "2467\n"
     ]
    },
    {
     "data": {
      "text/plain": [
       "['000d27d2c35f778180d38766ac48b767a7ba995e.siva',\n",
       " '00673debccf517431a7f5c9c09b3400d8ee18336.siva',\n",
       " '00966078d6a0500fd84cfe236e33363b726068cc.siva',\n",
       " '00a5271618202966aa747a1b165b8630b5dd7618.siva',\n",
       " '00f8e4de4fa3477b6cf825655ccec7571177cc83.siva',\n",
       " '012c232cc25c5644e231b535ac815f893984d2e7.siva',\n",
       " '018731a9545e74493814ee57394fad59b6aa2761.siva',\n",
       " '019092e338134b4bf4df40fe8f40f5f6dee6283f.siva',\n",
       " '01a99b84f5e5d95c56e3be336278a7406e67b0d3.siva',\n",
       " '01b5768f247d33b4cdba06198039fb3572ca76bc.siva']"
      ]
     },
     "execution_count": 39,
     "metadata": {},
     "output_type": "execute_result"
    }
   ],
   "source": [
    "upspin_siva_files = res.iloc[155534].SIVA_FILENAMES.split(\",\")\n",
    "print(len(upspin_siva_files))\n",
    "upspin_siva_files[:10]"
   ]
  },
  {
   "cell_type": "code",
   "execution_count": 40,
   "metadata": {},
   "outputs": [],
   "source": [
    "with open(\"upspin_siva_files.txt\", \"w\") as f:\n",
    "    for siva_file in upspin_siva_files:\n",
    "        f.write(\"/apps/borges/root-repositories/\" + siva_file[:2] + \"/\" + siva_file + \" \")"
   ]
  },
  {
   "cell_type": "code",
   "execution_count": 47,
   "metadata": {},
   "outputs": [],
   "source": [
    "with open(\"upspin_siva_files_size.txt\", \"r\") as f:\n",
    "    siva_files = f.readlines()"
   ]
  },
  {
   "cell_type": "code",
   "execution_count": 48,
   "metadata": {},
   "outputs": [
    {
     "data": {
      "text/plain": [
       "['6.3 K  /apps/borges/root-repositories/00/000d27d2c35f778180d38766ac48b767a7ba995e.siva\\n',\n",
       " '4.2 K  /apps/borges/root-repositories/00/00673debccf517431a7f5c9c09b3400d8ee18336.siva\\n',\n",
       " '5.7 K  /apps/borges/root-repositories/00/00966078d6a0500fd84cfe236e33363b726068cc.siva\\n',\n",
       " '3.6 K  /apps/borges/root-repositories/00/00a5271618202966aa747a1b165b8630b5dd7618.siva\\n',\n",
       " '5.9 K  /apps/borges/root-repositories/00/00f8e4de4fa3477b6cf825655ccec7571177cc83.siva\\n',\n",
       " '6.4 K  /apps/borges/root-repositories/01/012c232cc25c5644e231b535ac815f893984d2e7.siva\\n',\n",
       " '10.6 K  /apps/borges/root-repositories/01/018731a9545e74493814ee57394fad59b6aa2761.siva\\n',\n",
       " '5.9 K  /apps/borges/root-repositories/01/019092e338134b4bf4df40fe8f40f5f6dee6283f.siva\\n',\n",
       " '10.2 K  /apps/borges/root-repositories/01/01a99b84f5e5d95c56e3be336278a7406e67b0d3.siva\\n',\n",
       " '5.4 K  /apps/borges/root-repositories/01/01b5768f247d33b4cdba06198039fb3572ca76bc.siva\\n']"
      ]
     },
     "execution_count": 48,
     "metadata": {},
     "output_type": "execute_result"
    }
   ],
   "source": [
    "siva_files[:10]"
   ]
  },
  {
   "cell_type": "code",
   "execution_count": 49,
   "metadata": {},
   "outputs": [],
   "source": [
    "upspin_list_sizes = []\n",
    "for siva in siva_files:\n",
    "    if siva[-83] is \"K\":\n",
    "        upspin_list_sizes.append(float(siva[:-len_path]))\n",
    "    elif siva[-83] is \"M\":\n",
    "        upspin_list_sizes.append(float(siva[:-len_path])*1000)"
   ]
  },
  {
   "cell_type": "code",
   "execution_count": 51,
   "metadata": {},
   "outputs": [
    {
     "name": "stdout",
     "output_type": "stream",
     "text": [
      "total : 75173.7 KB\n",
      "min : 2.2 KB\n",
      "max : 59300.0 KB\n",
      "average : 30.5 KB\n"
     ]
    }
   ],
   "source": [
    "average = sum(upspin_list_sizes)/len(upspin_list_sizes)\n",
    "\n",
    "print(\"total : %s KB\" % sum(upspin_list_sizes))\n",
    "print(\"min : %s KB\" % min(upspin_list_sizes))\n",
    "print(\"max : %s KB\" % max(upspin_list_sizes))\n",
    "print(\"average : %s KB\" % round(average, 1))"
   ]
  },
  {
   "cell_type": "markdown",
   "metadata": {},
   "source": [
    "# The largest siva files belong to ... "
   ]
  },
  {
   "cell_type": "code",
   "execution_count": 55,
   "metadata": {},
   "outputs": [
    {
     "data": {
      "text/plain": [
       "[('11196231247', '1da177e4c3f41524e886b7f1b8a0c1fc7321cac2.siva'),\n",
       " ('6044495214', '7510162b44688f9b011cc8f51313cbbad2ef4541.siva'),\n",
       " ('5401029410', '7eec25e393727b16bb916b50d82b0aa3084e065c.siva'),\n",
       " ('5061164834', '757ea7b077f6b86ab6e4392808e773eea975338d.siva'),\n",
       " ('4923758539', '9fc5aa63f6fe5a4a1916b8220a961cb5183890e4.siva'),\n",
       " ('4878531974', 'df64520a808bdf6a23b8516bae097a2222bf8e3d.siva'),\n",
       " ('4606202280', '6c2c72e03e11a3dd0210f23d3a53e3bec1832a60.siva'),\n",
       " ('4245758546', '313ec634378d4197df3e6218b64a2dd7dc5350d9.siva'),\n",
       " ('4067492084', 'c14d891d44f0afff64e56ed7c9702df1d807b1ee.siva'),\n",
       " ('3887856044', '4b7557503d54c344a99e05ac295e7334b30912d8.siva')]"
      ]
     },
     "execution_count": 55,
     "metadata": {},
     "output_type": "execute_result"
    }
   ],
   "source": [
    "largest_siva_files = []\n",
    "with open(\"largest_siva_files.txt\", \"r\") as f:\n",
    "    for siva in f:\n",
    "        largest_siva_files.append((siva.split()[4], siva.split()[-1][-45:]))\n",
    "largest_siva_files"
   ]
  },
  {
   "cell_type": "code",
   "execution_count": 68,
   "metadata": {},
   "outputs": [
    {
     "name": "stdout",
     "output_type": "stream",
     "text": [
      "#1 11 GB\n",
      "173193               https://github.com/spotify/linux\n",
      "173530             https://github.com/linux-pmfs/pmfs\n",
      "175906          https://github.com/ARM-software/linux\n",
      "179648    https://github.com/libos-nuse/net-next-nuse\n",
      "Name: URL, dtype: object\n",
      "\n",
      "#2 6 GB\n",
      "166351    https://github.com/catpanda/AVcollection\n",
      "Name: URL, dtype: object\n",
      "\n",
      "#3 5 GB\n",
      "Series([], Name: URL, dtype: object)\n",
      "\n",
      "#4 5 GB\n",
      "Series([], Name: URL, dtype: object)\n",
      "\n",
      "#5 4 GB\n",
      "176931         https://github.com/arduino-org/Arduino\n",
      "177820             https://github.com/arduino/Arduino\n",
      "177973    https://github.com/adafruit/ESP8266-Arduino\n",
      "Name: URL, dtype: object\n",
      "\n",
      "#6 4 GB\n",
      "170867    https://github.com/sixteencolors/sixteencolors...\n",
      "Name: URL, dtype: object\n",
      "\n",
      "#7 4 GB\n",
      "170940    https://github.com/MicrosoftDocs/azure-docs\n",
      "Name: URL, dtype: object\n",
      "\n",
      "#8 4 GB\n",
      "Series([], Name: URL, dtype: object)\n",
      "\n",
      "#9 4 GB\n",
      "172600      https://github.com/adobe/chromium\n",
      "174475    https://github.com/mirrors/chromium\n",
      "Name: URL, dtype: object\n",
      "\n",
      "#10 3 GB\n",
      "174064    https://github.com/dotabuff/d2vpk\n",
      "Name: URL, dtype: object\n",
      "\n"
     ]
    }
   ],
   "source": [
    "for i, siva in enumerate(largest_siva_files):\n",
    "    print(\"#%d %s GB\" % (i+1, siva[0][:-9]))\n",
    "    print(res.loc[res[\"SIVA_FILENAMES\"] == siva[1]].URL)\n",
    "    print()"
   ]
  },
  {
   "cell_type": "code",
   "execution_count": null,
   "metadata": {},
   "outputs": [],
   "source": []
  }
 ],
 "metadata": {
  "kernelspec": {
   "display_name": "Python 3",
   "language": "python",
   "name": "python3"
  },
  "language_info": {
   "codemirror_mode": {
    "name": "ipython",
    "version": 3
   },
   "file_extension": ".py",
   "mimetype": "text/x-python",
   "name": "python",
   "nbconvert_exporter": "python",
   "pygments_lexer": "ipython3",
   "version": "3.6.3"
  }
 },
 "nbformat": 4,
 "nbformat_minor": 2
}
